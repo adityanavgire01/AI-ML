{
 "cells": [
  {
   "cell_type": "code",
   "execution_count": 2,
   "id": "9b6f12f5",
   "metadata": {},
   "outputs": [
    {
     "name": "stderr",
     "output_type": "stream",
     "text": [
      "c:\\GIT\\repos\\AI-ML\\ChromaDB\\chroma_env\\Lib\\site-packages\\tqdm\\auto.py:21: TqdmWarning: IProgress not found. Please update jupyter and ipywidgets. See https://ipywidgets.readthedocs.io/en/stable/user_install.html\n",
      "  from .autonotebook import tqdm as notebook_tqdm\n"
     ]
    },
    {
     "name": "stdout",
     "output_type": "stream",
     "text": [
      "✅ Notes indexed successfully!\n"
     ]
    }
   ],
   "source": [
    "import os\n",
    "import chromadb\n",
    "from chromadb.utils import embedding_functions\n",
    "from pprint import pprint\n",
    "\n",
    "embedding_func = embedding_functions.SentenceTransformerEmbeddingFunction(model_name=\"all-MiniLM-L6-v2\")\n",
    "client = chromadb.Client()\n",
    "\n",
    "collection = client.create_collection(name=\"notes\", embedding_function=embedding_func)\n",
    "\n",
    "notes_dir = \"notes\"\n",
    "documents = []\n",
    "ids = []\n",
    "\n",
    "for idx, filename in enumerate(os.listdir(notes_dir)):\n",
    "    if filename.endswith(\".txt\"):\n",
    "        with open(os.path.join(notes_dir, filename), \"r\", encoding='utf-8') as f:\n",
    "            content = f.read()\n",
    "            documents.append(content)\n",
    "            ids.append(f\"note_{idx}\")\n",
    "\n",
    "collection.add(documents=documents, ids=ids)\n",
    "\n",
    "print(\"✅ Notes indexed successfully!\")\n",
    "\n",
    "\n",
    "\n",
    "\n"
   ]
  },
  {
   "cell_type": "code",
   "execution_count": 7,
   "id": "35379314",
   "metadata": {},
   "outputs": [
    {
     "name": "stdout",
     "output_type": "stream",
     "text": [
      "🔍 Results for:  Track changes in code\n",
      "{'data': None,\n",
      " 'distances': [[1.11881685256958, 1.815758228302002]],\n",
      " 'documents': [['Git is a version control system used to track changes in '\n",
      "                'code. It helps developers collaborate efficiently.\\n',\n",
      "                'Python virtual environments help keep project dependencies '\n",
      "                'isolated from each other.\\n']],\n",
      " 'embeddings': None,\n",
      " 'ids': [['note_0', 'note_1']],\n",
      " 'included': ['metadatas', 'documents', 'distances'],\n",
      " 'metadatas': [[None, None]],\n",
      " 'uris': None}\n"
     ]
    }
   ],
   "source": [
    "# query = \"How do i isolate project dependencies in Python?\"\n",
    "# query = \"What is version control?\"\n",
    "query = \"Track changes in code\"\n",
    "\n",
    "results = collection.query(query_texts=[query], n_results=2)\n",
    "\n",
    "print(\"🔍 Results for: \", query)\n",
    "pprint(results)"
   ]
  }
 ],
 "metadata": {
  "kernelspec": {
   "display_name": "chroma_env",
   "language": "python",
   "name": "python3"
  },
  "language_info": {
   "codemirror_mode": {
    "name": "ipython",
    "version": 3
   },
   "file_extension": ".py",
   "mimetype": "text/x-python",
   "name": "python",
   "nbconvert_exporter": "python",
   "pygments_lexer": "ipython3",
   "version": "3.12.0"
  }
 },
 "nbformat": 4,
 "nbformat_minor": 5
}
